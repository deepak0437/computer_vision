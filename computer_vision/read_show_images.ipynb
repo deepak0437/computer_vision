{
 "cells": [
  {
   "cell_type": "code",
   "execution_count": 1,
   "id": "dead6c07",
   "metadata": {},
   "outputs": [],
   "source": [
    "##import open cv library\n",
    "import cv2"
   ]
  },
  {
   "cell_type": "code",
   "execution_count": 2,
   "id": "84779d2a",
   "metadata": {},
   "outputs": [],
   "source": [
    "##Load an image using 'imread' specifying the path to image\n",
    "img1 = cv2.imread(\"images\\elephant.jpg\")\n",
    "\n",
    "##To display our image variable, we use 'imshow'\n",
    "cv2.imshow(\"Elephant image\", img1)\n",
    "\n",
    "##'waitKey' allows us to input information when a image window is open\n",
    "cv2.waitKey()\n",
    "\n",
    "\n",
    "##This closes all open windows \n",
    "cv2.destroyAllWindows()"
   ]
  },
  {
   "cell_type": "code",
   "execution_count": 51,
   "id": "7cd039bf",
   "metadata": {},
   "outputs": [],
   "source": [
    "####Load an image using 'imread' specifying the path to image\n",
    "img = cv2.imread(\"images\\croc.jpg\")\n",
    "\n",
    "##To display our image variable, we use 'imshow'\n",
    "cv2.imshow(\"Crocodile image\",img)\n",
    "\n",
    "##'waitKey' allows us to input information when a image window is open\n",
    "cv2.waitKey()\n",
    "\n",
    "##This closes all open windows \n",
    "cv2.destroyAllWindows()"
   ]
  },
  {
   "cell_type": "code",
   "execution_count": 52,
   "id": "2e3e052e",
   "metadata": {},
   "outputs": [
    {
     "name": "stdout",
     "output_type": "stream",
     "text": [
      "(512, 703, 3)\n"
     ]
    }
   ],
   "source": [
    "##print shape of images\n",
    "print(img.shape)"
   ]
  },
  {
   "cell_type": "code",
   "execution_count": 53,
   "id": "7b41bac9",
   "metadata": {},
   "outputs": [
    {
     "name": "stdout",
     "output_type": "stream",
     "text": [
      "Height of images: 512 pixels\n",
      "Width of images: 703 pixels\n",
      "Width of images: 3 rgba\n"
     ]
    }
   ],
   "source": [
    "##print height , width and rgba individually\n",
    "\n",
    "print(\"Height of images:\", int(img.shape[0]), 'pixels')\n",
    "print(\"Width of images:\", int(img.shape[1]), 'pixels') \n",
    "print(\"Width of images:\", int(img.shape[2]), 'rgba') "
   ]
  },
  {
   "cell_type": "code",
   "execution_count": 54,
   "id": "c3450f32",
   "metadata": {},
   "outputs": [
    {
     "data": {
      "text/plain": [
       "True"
      ]
     },
     "execution_count": 54,
     "metadata": {},
     "output_type": "execute_result"
    }
   ],
   "source": [
    "##'imwrite' specificing the file name and the image to be saved\n",
    "\n",
    "cv2.imwrite('new.jpg', img)"
   ]
  },
  {
   "cell_type": "code",
   "execution_count": 55,
   "id": "31dc02fa",
   "metadata": {},
   "outputs": [],
   "source": [
    "##check new images working or not\n",
    "\n",
    "new = cv2.imread('new.jpg')\n",
    "\n",
    "cv2.imshow('New Images', new)\n",
    "\n",
    "cv2.waitKey()\n",
    "cv2.destroyAllWindows()"
   ]
  },
  {
   "cell_type": "code",
   "execution_count": null,
   "id": "6cc0de95",
   "metadata": {},
   "outputs": [],
   "source": []
  }
 ],
 "metadata": {
  "kernelspec": {
   "display_name": "Python 3 (ipykernel)",
   "language": "python",
   "name": "python3"
  },
  "language_info": {
   "codemirror_mode": {
    "name": "ipython",
    "version": 3
   },
   "file_extension": ".py",
   "mimetype": "text/x-python",
   "name": "python",
   "nbconvert_exporter": "python",
   "pygments_lexer": "ipython3",
   "version": "3.9.7"
  }
 },
 "nbformat": 4,
 "nbformat_minor": 5
}
