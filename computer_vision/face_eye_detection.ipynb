{
 "cells": [
  {
   "cell_type": "code",
   "execution_count": 7,
   "id": "2f2ed67b",
   "metadata": {},
   "outputs": [],
   "source": [
    "##import libary\n",
    "\n",
    "import cv2\n",
    "import numpy as np"
   ]
  },
  {
   "cell_type": "code",
   "execution_count": 8,
   "id": "ec9d424f",
   "metadata": {},
   "outputs": [
    {
     "name": "stderr",
     "output_type": "stream",
     "text": [
      "<>:9: SyntaxWarning: \"is\" with a literal. Did you mean \"==\"?\n",
      "<>:9: SyntaxWarning: \"is\" with a literal. Did you mean \"==\"?\n",
      "C:\\Users\\DEEPAK~1\\AppData\\Local\\Temp/ipykernel_14796/1355843067.py:9: SyntaxWarning: \"is\" with a literal. Did you mean \"==\"?\n",
      "  if face is ():\n"
     ]
    }
   ],
   "source": [
    "#We point OpenCV's CascadeClassifier function to where our classifier (XML file format) is stored\n",
    "\n",
    "face_classifier = cv2.CascadeClassifier('Haarcascades/haarcascade_frontalface_default.xml')\n",
    "\n",
    "# Load our image then convert it to grayscale\n",
    "img = cv2.imread('images/modi.jpg')\n",
    "gray = cv2.cvtColor(img, cv2.COLOR_BGR2GRAY)\n",
    "\n",
    "# Our classifier returns the ROI of the detected face as a tuple\n",
    "face = face_classifier.detectMultiScale(gray, 1.3, 5)\n",
    "\n",
    "# When no faces detected, face_classifier returns and empty tuple\n",
    "if face is ():\n",
    "    print(\"No face found\")\n",
    "    \n",
    "# We iterate through our faces array and draw a rectangle over each face in faces\n",
    "for (x, y, w, h) in face:\n",
    "    cv2.rectangle(img, (x,y), (x+w, y+h), (127, 0 , 255), 2)\n",
    "    cv2.imshow('Face detection', img)\n",
    "    \n",
    "    cv2.waitKey(0)\n",
    "\n",
    "\n",
    "cv2.destroyAllWindows()    "
   ]
  },
  {
   "cell_type": "code",
   "execution_count": 9,
   "id": "b6cb8fb1",
   "metadata": {},
   "outputs": [
    {
     "name": "stderr",
     "output_type": "stream",
     "text": [
      "<>:9: SyntaxWarning: \"is\" with a literal. Did you mean \"==\"?\n",
      "<>:9: SyntaxWarning: \"is\" with a literal. Did you mean \"==\"?\n",
      "C:\\Users\\DEEPAK~1\\AppData\\Local\\Temp/ipykernel_14796/2352786125.py:9: SyntaxWarning: \"is\" with a literal. Did you mean \"==\"?\n",
      "  if face is ():\n"
     ]
    }
   ],
   "source": [
    "#We point OpenCV's CascadeClassifier function to where our classifier (XML file format) is stored\n",
    "\n",
    "face_classifier = cv2.CascadeClassifier(\"Haarcascades/haarcascade_frontalface_default.xml\")\n",
    "eye_classifier = cv2.CascadeClassifier(\"Haarcascades/haarcascade_eye.xml\")\n",
    "\n",
    "# Load our image then convert it to grayscale\n",
    "img1 = cv2.imread('images/Trump.jpg')\n",
    "gray = cv2.cvtColor(img1, cv2.COLOR_RGB2GRAY)\n",
    "\n",
    "\n",
    "# Our classifier returns the ROI of the detected face as a tuple\n",
    "face = face_classifier.detectMultiScale(gray, 1.3, 5)\n",
    "\n",
    "# When no faces detected, face_classifier returns and empty tuple\n",
    "if face is ():\n",
    "    print(\"Fcaes not found\")\n",
    "    \n",
    "\n",
    "# We iterate through our faces array and draw a rectangle over each face in faces\n",
    "for (x, y, w, h) in face:\n",
    "    cv2.rectangle(img1, (x, y), (x+w, y+h), (127, 0, 255), 2)\n",
    "    cv2.imshow(\"image\", img1)\n",
    "    cv2.waitKey(0)\n",
    "    \n",
    "    roi_gray = gray[y:y+h, x:x+w]\n",
    "    roi_color = img1[y:y+h, x:x+w]\n",
    "    \n",
    "# We iterate through our eyes array and draw a rectangle over each eyes in faces\n",
    "\n",
    "    eye = eye_classifier.detectMultiScale(roi_gray)\n",
    "    for (ex, ey, ew, eh) in eye:\n",
    "        cv2.rectangle(roi_color, (ex, ey), (ex+ew, ey+eh), (255, 255, 0), 2)\n",
    "        cv2.imshow('image', img1)\n",
    "        cv2.waitKey(0)\n",
    "        \n",
    "cv2.destroyAllWindows()"
   ]
  },
  {
   "cell_type": "code",
   "execution_count": null,
   "id": "d20bcaf5",
   "metadata": {},
   "outputs": [],
   "source": []
  },
  {
   "cell_type": "code",
   "execution_count": null,
   "id": "151600f6",
   "metadata": {},
   "outputs": [],
   "source": []
  }
 ],
 "metadata": {
  "kernelspec": {
   "display_name": "Python 3 (ipykernel)",
   "language": "python",
   "name": "python3"
  },
  "language_info": {
   "codemirror_mode": {
    "name": "ipython",
    "version": 3
   },
   "file_extension": ".py",
   "mimetype": "text/x-python",
   "name": "python",
   "nbconvert_exporter": "python",
   "pygments_lexer": "ipython3",
   "version": "3.9.7"
  }
 },
 "nbformat": 4,
 "nbformat_minor": 5
}
