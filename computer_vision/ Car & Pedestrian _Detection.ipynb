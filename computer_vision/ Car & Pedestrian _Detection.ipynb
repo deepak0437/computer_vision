{
 "cells": [
  {
   "cell_type": "markdown",
   "id": "cd00769b",
   "metadata": {},
   "source": [
    "##Pedistrian Detection"
   ]
  },
  {
   "cell_type": "code",
   "execution_count": null,
   "id": "4a7639df",
   "metadata": {},
   "outputs": [],
   "source": [
    "##import library\n",
    "import cv2 \n",
    "import numpy as np\n",
    "import time"
   ]
  },
  {
   "cell_type": "code",
   "execution_count": null,
   "id": "0f5f7fa1",
   "metadata": {},
   "outputs": [],
   "source": [
    "# Create our body classifier\n",
    "body_classifier = cv2.CascadeClassifier('Haarcascades\\haarcascade_fullbody.xml')\n",
    "\n",
    "# Initiate video capture for video file\n",
    "video = cv2.VideoCapture('images/walking.avi')\n",
    "\n",
    "# Loop once video is successfully loaded\n",
    "while video.isOpened():\n",
    "    \n",
    "# Read first frame\n",
    "    ret, frame = video.read()\n",
    "    #frame = cv2.resize(frame, None,fx=0.5, fy=0.5, interpolation = cv2.INTER_LINEAR)\n",
    "\n",
    "    gray = cv2.cvtColor(frame, cv2.COLOR_RGB2GRAY)\n",
    "\n",
    "# Pass frame to our body classifier\n",
    "    body = body_classifier.detectMultiScale(gray, 1.2, 3)\n",
    "    \n",
    "    # Extract bounding boxes for any bodies identified\n",
    "    for (x, y, w, h) in body:\n",
    "        cv2.rectangle(frame, (x,y), (x+w, y+h), (0, 255, 255), 2)\n",
    "        cv2.imshow(\"Walking people\", frame)\n",
    "        \n",
    "    if cv2.waitKey(1) == 1:  #1 is the Enter Key\n",
    "        break\n",
    "        \n",
    "video.release()\n",
    "cv2.destroyAllWindows()"
   ]
  },
  {
   "cell_type": "markdown",
   "id": "16173bce",
   "metadata": {},
   "source": [
    "##car Detection"
   ]
  },
  {
   "cell_type": "code",
   "execution_count": null,
   "id": "a3a9aca1",
   "metadata": {},
   "outputs": [],
   "source": [
    "# Create our body classifier\n",
    "car_classifier = cv2.CascadeClassifier('Haarcascades\\haarcascade_car.xml')\n",
    "\n",
    "# Initiate video capture for video file\n",
    "video = cv2.VideoCapture('images/cars.avi')\n",
    "\n",
    "# Loop once video is successfully loaded\n",
    "while video.isOpened():\n",
    "    time.sleep(.05)\n",
    "    # Read first frame\n",
    "    ret, frame = video.read()\n",
    "    gray = cv2.cvtColor(frame, cv2.COLOR_RGB2GRAY)\n",
    "    \n",
    "    # Pass frame to our car classifier\n",
    "    car = car_classifer.detectMultiScale(gray, 1.4, 2)\n",
    "    \n",
    "    # Extract bounding boxes for any bodies identified\n",
    "    for (x, y, w, h) in car:\n",
    "        cv2.rectangle(frame, (x,y), (x+w, y+h), (0, 255, 255), 2)\n",
    "        cv2.imshow(\"Movig Car\", frame)\n",
    "        \n",
    "    if cv2.waitKey(1) == 1:  #1 is the Enter Key\n",
    "        break\n",
    "        \n",
    "video.release()\n",
    "cv2.destroyAllWindows()"
   ]
  },
  {
   "cell_type": "code",
   "execution_count": null,
   "id": "16265d08",
   "metadata": {},
   "outputs": [],
   "source": []
  }
 ],
 "metadata": {
  "kernelspec": {
   "display_name": "Python 3 (ipykernel)",
   "language": "python",
   "name": "python3"
  },
  "language_info": {
   "codemirror_mode": {
    "name": "ipython",
    "version": 3
   },
   "file_extension": ".py",
   "mimetype": "text/x-python",
   "name": "python",
   "nbconvert_exporter": "python",
   "pygments_lexer": "ipython3",
   "version": "3.9.7"
  }
 },
 "nbformat": 4,
 "nbformat_minor": 5
}
