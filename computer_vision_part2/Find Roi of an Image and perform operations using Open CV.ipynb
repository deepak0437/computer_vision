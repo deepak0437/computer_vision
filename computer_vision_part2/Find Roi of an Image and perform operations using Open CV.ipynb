{
 "cells": [
  {
   "cell_type": "code",
   "execution_count": 1,
   "id": "3be03fc9",
   "metadata": {},
   "outputs": [],
   "source": [
    "import cv2\n",
    "import numpy as np"
   ]
  },
  {
   "cell_type": "code",
   "execution_count": 4,
   "id": "4cc11e13",
   "metadata": {},
   "outputs": [],
   "source": [
    "#this concept is use to find target portion from image like eyes on face.\n",
    "\n",
    "#read image\n",
    "img = cv2.imread(\"images/roi_opr.jpg\")\n",
    "img = cv2.resize(img,(800,800))\n",
    "\n",
    "#Now extract  area of interest from an image\n",
    "\n",
    "#now pass like [y1:y2,x1:x2]\n",
    "roi = img[50:205,320:440]\n",
    "#cv2.imshow(\"roi image==\",roi)\n",
    "\n",
    "#putting roi into any pixel values\n",
    "\n",
    "img[50:205,431:551] = roi   #actual 441:561\n",
    "img[50:205,552:672] = roi \n",
    "img[50:205,200:320] = roi\n",
    "img[50:205,80:200] = roi\n",
    "\n",
    "#changing y===\n",
    "img[400:555,60:180] = roi\n",
    "cv2.imshow(\"original image==\",img)\n",
    "\"\"\"\n",
    "#Now try to use one image data into another image\n",
    "\n",
    "img1 = cv2.imread(\"images/ironman.jpg\")\n",
    "img1 = cv2.resize(img1,(500,600))\n",
    "img1[1:156,560:680] = roi\n",
    "\n",
    "cv2.imshow(\"ironman\",img1)\n",
    "\"\"\"\n",
    "cv2.waitKey(0)\n",
    "cv2.destroyAllWindows()"
   ]
  },
  {
   "cell_type": "code",
   "execution_count": null,
   "id": "d60a5a5f",
   "metadata": {},
   "outputs": [],
   "source": []
  }
 ],
 "metadata": {
  "kernelspec": {
   "display_name": "Python 3 (ipykernel)",
   "language": "python",
   "name": "python3"
  },
  "language_info": {
   "codemirror_mode": {
    "name": "ipython",
    "version": 3
   },
   "file_extension": ".py",
   "mimetype": "text/x-python",
   "name": "python",
   "nbconvert_exporter": "python",
   "pygments_lexer": "ipython3",
   "version": "3.9.7"
  }
 },
 "nbformat": 4,
 "nbformat_minor": 5
}
