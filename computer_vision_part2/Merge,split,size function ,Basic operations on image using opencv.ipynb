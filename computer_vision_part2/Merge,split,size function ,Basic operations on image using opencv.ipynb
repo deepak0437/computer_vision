{
 "cells": [
  {
   "cell_type": "code",
   "execution_count": 1,
   "id": "389bfb9d",
   "metadata": {},
   "outputs": [],
   "source": [
    "import cv2\n",
    "import numpy as np"
   ]
  },
  {
   "cell_type": "code",
   "execution_count": 14,
   "id": "95527662",
   "metadata": {},
   "outputs": [
    {
     "name": "stdout",
     "output_type": "stream",
     "text": [
      "Shape: (400, 400, 3)\n",
      "No of pixel: 480000\n",
      "datatype== uint8\n",
      "Imagetype== <class 'numpy.ndarray'>\n"
     ]
    }
   ],
   "source": [
    "##Merge,split,size function ,Basic operations on image\n",
    "\n",
    "img = cv2.imread(\"images/pikachu.jpg\")\n",
    "img = cv2.resize(img, (400, 400))\n",
    "print(\"Shape:\", img.shape) ##returns a tuple of number of rows, columns, and channels\n",
    "print(\"No of pixel:\",img.size)   #returns Total number of pixels is accessed\n",
    "print(\"datatype==\",img.dtype) #returns Image datatype is obtained\n",
    "print(\"Imagetype==\",type(img))\n",
    "\n",
    "#split  -  return 3 channel of ur image which is blue,green,red\n",
    "#print(cv2.split(img))\n",
    "b,g,r = cv2.split(img)\n",
    "\n",
    "\"\"\"\n",
    "cv2.imshow(\"blue\",b)\n",
    "cv2.imshow(\"green\",g)\n",
    "cv2.imshow(\"red\",r)\n",
    "\"\"\"\n",
    "#Now if you want to mix the the channels then use merge\n",
    "mr1 = cv2.merge((r,g,b))\n",
    "cv2.imshow(\"rgb\",mr1)\n",
    "mr2 = cv2.merge((g,b,r))\n",
    "cv2.imshow(\"gbr\",mr2)\n",
    "mr3 = cv2.merge((b,g,r))\n",
    "cv2.imshow(\"bgr\",mr2)\n",
    "\n",
    "\n",
    "cv2.imshow(\"Image\", img)\n",
    "cv2.waitKey(0)\n",
    "cv2.destroyAllWindows()"
   ]
  },
  {
   "cell_type": "code",
   "execution_count": 18,
   "id": "a08ff6d8",
   "metadata": {},
   "outputs": [
    {
     "name": "stdout",
     "output_type": "stream",
     "text": [
      "the pixel of that co-ordinates== [121  79 123]\n",
      "the pixel having blue color== [121  79 123]\n",
      "the pixel having grn color== 79\n",
      "the pixel having red color== 123\n"
     ]
    }
   ],
   "source": [
    "#Working on pixel color values------\n",
    "\n",
    "img = cv2.imread(\"images/lion.jpg\")\n",
    "img = cv2.resize(img,(1024,700))\n",
    "cv2.imshow(\"lion==\",img)\n",
    "\n",
    "\n",
    "#access a pixel value by its row and column coordinates.\n",
    "px = img[520,580] #store cordinate in variable\n",
    "print(\"the pixel of that co-ordinates==\",px) #we get the pixel value\n",
    "\n",
    "#Now try to find selected channel value from cordinate\n",
    "#We know we have three channel -   0,1,2\n",
    "# accessing only blue pixel\n",
    "blue = img[520,580]\n",
    "print(\"the pixel having blue color==\",blue)\n",
    "\n",
    "grn = img[520,580,1] #for green pass 1\n",
    "print(\"the pixel having grn color==\",grn)\n",
    "\n",
    "red = img[520,580,2] #for red pass 2\n",
    "print(\"the pixel having red color==\",red)\n",
    "\n",
    "cv2.waitKey(0)\n",
    "cv2.destroyAllWindows()"
   ]
  },
  {
   "cell_type": "code",
   "execution_count": null,
   "id": "b26b9367",
   "metadata": {},
   "outputs": [],
   "source": []
  }
 ],
 "metadata": {
  "kernelspec": {
   "display_name": "Python 3 (ipykernel)",
   "language": "python",
   "name": "python3"
  },
  "language_info": {
   "codemirror_mode": {
    "name": "ipython",
    "version": 3
   },
   "file_extension": ".py",
   "mimetype": "text/x-python",
   "name": "python",
   "nbconvert_exporter": "python",
   "pygments_lexer": "ipython3",
   "version": "3.9.7"
  }
 },
 "nbformat": 4,
 "nbformat_minor": 5
}
