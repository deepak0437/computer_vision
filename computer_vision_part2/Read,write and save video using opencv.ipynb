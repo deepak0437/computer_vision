{
 "cells": [
  {
   "cell_type": "code",
   "execution_count": 1,
   "id": "93d6e6cb",
   "metadata": {},
   "outputs": [],
   "source": [
    "import cv2"
   ]
  },
  {
   "cell_type": "code",
   "execution_count": 10,
   "id": "4f7e2429",
   "metadata": {},
   "outputs": [],
   "source": [
    "#with the help of videoCapture fucntion we easily ready any video.\n",
    "video = cv2.VideoCapture(\"images/test2.mp4\")\n",
    "\n",
    "while True:\n",
    "    ret, frame = video.read()   \n",
    "    ##to resize the frame\n",
    "    frame = cv2.resize(frame, (400,400))\n",
    "    ##convert video into gray color\n",
    "    gray = cv2.cvtColor(frame, cv2.COLOR_RGB2GRAY)\n",
    "    cv2.imshow(\"Display video\", frame)\n",
    "    cv2.imshow(\"Gray scale video\", gray)\n",
    "    k = cv2.waitKey(10)\n",
    "    if k == ord(\"q\") & 0xFF:     #press to exit\n",
    "        break\n",
    "\n",
    "# Release everything if job is finished\n",
    "video.release()\n",
    "cv2.destroyAllWindows()\n",
    "        "
   ]
  },
  {
   "cell_type": "code",
   "execution_count": 12,
   "id": "cb756fe4",
   "metadata": {},
   "outputs": [],
   "source": [
    "#Capture  video from webcam \n",
    "\n",
    "video = cv2.VideoCapture(0)\n",
    "\n",
    "while video.isOpened():\n",
    "    ret, frame = video.read()\n",
    "    if ret == True:\n",
    "        frame = cv2.resize(frame, (500, 500))\n",
    "        ##it coneverts the color video into ray scale video\n",
    "        gray = cv2.cvtColor(frame, cv2.COLOR_RGB2GRAY)\n",
    "        frame = cv2.flip(frame, 0)\n",
    "        ##to show color video\n",
    "        cv2.imshow(\"Colorfull video\", frame)\n",
    "        ## to show the  gray scale\n",
    "        cv2.imshow(\"Gray scale images\", gray)\n",
    "        if cv2.waitKey(1) & 0xFF == ord(\"q\"):\n",
    "            break\n",
    "            \n",
    "video.release()\n",
    "cv2.destroyAllWindows()"
   ]
  },
  {
   "cell_type": "code",
   "execution_count": 11,
   "id": "30f621ff",
   "metadata": {},
   "outputs": [],
   "source": [
    "#Capture  video from webcam and save it\n",
    "\n",
    "video = cv2.VideoCapture(0)\n",
    "#it is 4 byte code which is use to specify the video codec\n",
    "#Various codec -- \n",
    "#DIVX, XVID, MJPG, X264, WMV1, WMV2\n",
    "fourcc = cv2.VideoWriter_fourcc(*\"XVID\")\n",
    "#It contain 4 parameter , name, codec,fps,resolution\n",
    "output = cv2.VideoWriter(\"images/output.avi\", fourcc, 10.0, (500, 500))\n",
    "#output = cv2.VideoWriter(\"images/output.avi\", fourcc, 10.0, (500, 500),0) ##last parameter 0 return gray scale video\n",
    "\n",
    "\n",
    "while video.isOpened():\n",
    "    ret, frame = video.read()\n",
    "    if ret == True:\n",
    "        ##frame = cv2.resize(frame, (500, 500))  ##already mentioned the size of video capture.release\n",
    "        gray = cv2.cvtColor(frame, cv2.COLOR_RGB2GRAY)\n",
    "        frame = cv2.flip(frame, 0)\n",
    "        cv2.imshow(\"Colorfull video\", frame)\n",
    "        #cv2.imshow(\"Gray scale images\", gray)\n",
    "        if cv2.waitKey(1) & 0xFF == ord(\"q\"):\n",
    "            break\n",
    "            \n",
    "video.release()\n",
    "output.release()\n",
    "cv2.destroyAllWindows()"
   ]
  },
  {
   "cell_type": "code",
   "execution_count": null,
   "id": "fdf010b7",
   "metadata": {},
   "outputs": [],
   "source": []
  }
 ],
 "metadata": {
  "kernelspec": {
   "display_name": "Python 3 (ipykernel)",
   "language": "python",
   "name": "python3"
  },
  "language_info": {
   "codemirror_mode": {
    "name": "ipython",
    "version": 3
   },
   "file_extension": ".py",
   "mimetype": "text/x-python",
   "name": "python",
   "nbconvert_exporter": "python",
   "pygments_lexer": "ipython3",
   "version": "3.9.7"
  }
 },
 "nbformat": 4,
 "nbformat_minor": 5
}
