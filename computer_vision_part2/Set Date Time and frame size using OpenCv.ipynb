{
 "cells": [
  {
   "cell_type": "code",
   "execution_count": 1,
   "id": "0bfa7c14",
   "metadata": {},
   "outputs": [],
   "source": [
    "import cv2"
   ]
  },
  {
   "cell_type": "code",
   "execution_count": null,
   "id": "772d56fe",
   "metadata": {},
   "outputs": [
    {
     "name": "stdout",
     "output_type": "stream",
     "text": [
      "Width==== 320.0\n",
      "Height=== 0.0\n"
     ]
    }
   ],
   "source": [
    "#Set Date Time and frame size using OpenCv\n",
    "import cv2\n",
    "import datetime\n",
    "\n",
    "cap = cv2.VideoCapture(\"images/cars.avi\")\n",
    "#print(\"for width===\",cap.get(cv2.CAP_PROP_FRAME_WIDTH))\n",
    "#print(\"for height==\",cap.get(cv2.CAP_PROP_FRAME_HEIGHT))\n",
    "\n",
    "cap.set(3, 600)  #here 3 for width\n",
    "cap.set(4, 900)  #here 4 for height \n",
    "\n",
    "print(\"Width====\",cap.get(3))\n",
    "print(\"Height===\",cap.get(8))\n",
    "\n",
    "\n",
    "while cap.isOpened():\n",
    "    ret, frame = cap.read()\n",
    "    if ret == True:\n",
    "        frame = cv2.resize(frame, (700, 500))\n",
    "        \n",
    "        font = cv2.FONT_HERSHEY_COMPLEX_SMALL\n",
    "        text = ' Height: ' + str(cap.get(4))+' Width: '+ str(cap.get(3))\n",
    "        date_data = \"Date: \"+str(datetime.datetime.now())\n",
    "        \n",
    "        frame = cv2.putText(frame, text, (10, 20), font, 1,\n",
    "                           (0, 155, 255), 1, cv2.LINE_AA)\n",
    "        \n",
    "        frame = cv2.putText(frame, date_data, (20, 50), font, 1,\n",
    "                           (100, 255, 255), 1, cv2.LINE_AA)\n",
    "       #Rectangle - accept parameter(img,start_co,end_co,colot ,thickness)\n",
    "        cv2.rectangle(frame, (0, 0), (450, 100), (128, 0, 255), 8)\n",
    "        \n",
    "        cv2.imshow(\"Video\", frame)\n",
    "        if cv2.waitKey(20) & 0xFF == ord(\"q\"):\n",
    "            break\n",
    "            \n",
    "cap.release()\n",
    "cv2.destroyAllWindows()\n",
    "        "
   ]
  },
  {
   "cell_type": "code",
   "execution_count": null,
   "id": "783228a5",
   "metadata": {},
   "outputs": [],
   "source": []
  }
 ],
 "metadata": {
  "kernelspec": {
   "display_name": "Python 3 (ipykernel)",
   "language": "python",
   "name": "python3"
  },
  "language_info": {
   "codemirror_mode": {
    "name": "ipython",
    "version": 3
   },
   "file_extension": ".py",
   "mimetype": "text/x-python",
   "name": "python",
   "nbconvert_exporter": "python",
   "pygments_lexer": "ipython3",
   "version": "3.9.7"
  }
 },
 "nbformat": 4,
 "nbformat_minor": 5
}
