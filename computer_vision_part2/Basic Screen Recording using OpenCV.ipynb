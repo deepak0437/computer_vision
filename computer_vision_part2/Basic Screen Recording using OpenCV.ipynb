{
 "cells": [
  {
   "cell_type": "code",
   "execution_count": 1,
   "id": "6b934a26",
   "metadata": {},
   "outputs": [],
   "source": [
    "import cv2 as c\n",
    "import pyautogui as p\n",
    "import numpy as np"
   ]
  },
  {
   "cell_type": "code",
   "execution_count": 2,
   "id": "adb39231",
   "metadata": {},
   "outputs": [
    {
     "name": "stdout",
     "output_type": "stream",
     "text": [
      "Enter file name and pathimages/screen.mp4\n"
     ]
    }
   ],
   "source": [
    "#Screen Recorder ---\n",
    "\n",
    "##create resolution\n",
    "rs = p.size()\n",
    "\n",
    "##file name in which we store recording\n",
    "fn = input(\"Enter file name and path\")\n",
    "##fix the frame rate\n",
    "fps = 30.0\n",
    "\n",
    "##cretae object to save the recording\n",
    "fourcc = c.VideoWriter_fourcc(*\"XVID\")\n",
    "output = c.VideoWriter(fn, fourcc, fps, rs)\n",
    "\n",
    "\n",
    "#create recording module\n",
    "c.namedWindow(\"Live Recording\", c.WINDOW_NORMAL)\n",
    "##resize the window resolution\n",
    "c.resizeWindow(\"Live Recording\", (600, 500))\n",
    "\n",
    "while True:\n",
    "    img = p.screenshot()\n",
    "    f = np.array(img)\n",
    "    f = c.cvtColor(f, c.COLOR_BGR2RGB)\n",
    "    output.write(f)\n",
    "    c.imshow(\"Live Recording\", f)\n",
    "    if c.waitKey(1) & 0xFF == ord(\"q\"):\n",
    "        break\n",
    "        \n",
    "output.release()\n",
    "c.destroyAllWindows()"
   ]
  },
  {
   "cell_type": "code",
   "execution_count": 1,
   "id": "e2ac79a0",
   "metadata": {},
   "outputs": [],
   "source": [
    "#Capture Multiple Images and Store in a folder\n",
    "\n",
    "import cv2\n",
    "vidcap = cv2.VideoCapture(\"images/test2.mp4\")\n",
    "\n",
    "ret, image = vidcap.read()\n",
    "count = 0\n",
    "while True:\n",
    "    if ret == True:\n",
    "        cv2.imwrite(\"images/imgN%d.jpg\" %count, image)    # save frame as JPEG file\n",
    "        vidcap.set(cv2.CAP_PROP_POS_MSEC,(count**100)) #used to hold speed of frame generation\n",
    "        ret, image = vidcap.read()\n",
    "        cv2.imshow(\"Capture\",image)\n",
    "        \n",
    "        count = count + 1\n",
    "        if cv2.waitKey(1) & 0xFF == ord(\"q\"):\n",
    "            break\n",
    "            cv2.destroyAllWIndows()\n",
    "            \n",
    "vidcap.release()\n",
    "cv2.destroyAllWindows()"
   ]
  },
  {
   "cell_type": "code",
   "execution_count": null,
   "id": "d8277e3e",
   "metadata": {},
   "outputs": [],
   "source": []
  }
 ],
 "metadata": {
  "kernelspec": {
   "display_name": "Python 3 (ipykernel)",
   "language": "python",
   "name": "python3"
  },
  "language_info": {
   "codemirror_mode": {
    "name": "ipython",
    "version": 3
   },
   "file_extension": ".py",
   "mimetype": "text/x-python",
   "name": "python",
   "nbconvert_exporter": "python",
   "pygments_lexer": "ipython3",
   "version": "3.9.7"
  }
 },
 "nbformat": 4,
 "nbformat_minor": 5
}
