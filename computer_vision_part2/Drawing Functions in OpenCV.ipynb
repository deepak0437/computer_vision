{
 "cells": [
  {
   "cell_type": "code",
   "execution_count": 2,
   "id": "1e526965",
   "metadata": {},
   "outputs": [],
   "source": [
    "import cv2\n",
    "import numpy as np"
   ]
  },
  {
   "cell_type": "code",
   "execution_count": 28,
   "id": "1116b4f8",
   "metadata": {},
   "outputs": [],
   "source": [
    "#drawing function in opencv\n",
    "\n",
    "#img = cv2.imread(\"images/croc.jpg\")\n",
    "#img = cv2.resize(img, (500,400))\n",
    "\n",
    "#Creating Blank Image---\n",
    "#img = np.zeros([512, 512, 3], np.uint8)*255  #For white screen\n",
    "img = np.ones([512,512,3], np.uint8)*255 #create window of an black screen\n",
    "\n",
    "\n",
    "#Here line accept 5 parameter (img,starting,ending,color,thickness)\n",
    "img = cv2.line(img, (0,0), (200, 200), (150, 80, 200), 6)\n",
    "\n",
    "#arrowed line accept also accpet 5 parameter  (img,starting,ending,color,thickness) \n",
    "img = cv2.arrowedLine(img, (0,125), (200,205), (255, 0, 125), 4)\n",
    "\n",
    "#Rectangle - accept parameter(img,start_co,end_co,colot ,thickness)\n",
    "img = cv2.rectangle(img, (384, 10), (110, 128), (128, 0, 255), 4)\n",
    "\n",
    "#circle - accept(img,star_co,radius,color,thickness)\n",
    "img = cv2.circle(img, (447, 125), 63, (214, 255, 0), 5)\n",
    "\n",
    "font = cv2.FONT_ITALIC\n",
    "#puttext -accept(img,text,start_co,font,fontsize,color,thickness,linetype)\n",
    "img = cv2.putText(img, 'THOR', (20, 100), font, 2, (0, 125, 255), 1, cv2.LINE_AA)\n",
    "\n",
    "#ellipse-accept(img,start_cor,(length,height),color,thickness)\n",
    "img = cv2.ellipse(img,(300,300),(100,50),0,0,300,155,5)\n",
    "\n",
    "cv2.imshow(\"Image\", img)\n",
    "cv2.waitKey(0)\n",
    "cv2.destroyAllWindows()"
   ]
  },
  {
   "cell_type": "code",
   "execution_count": null,
   "id": "6105d298",
   "metadata": {},
   "outputs": [],
   "source": []
  }
 ],
 "metadata": {
  "kernelspec": {
   "display_name": "Python 3 (ipykernel)",
   "language": "python",
   "name": "python3"
  },
  "language_info": {
   "codemirror_mode": {
    "name": "ipython",
    "version": 3
   },
   "file_extension": ".py",
   "mimetype": "text/x-python",
   "name": "python",
   "nbconvert_exporter": "python",
   "pygments_lexer": "ipython3",
   "version": "3.9.7"
  }
 },
 "nbformat": 4,
 "nbformat_minor": 5
}
