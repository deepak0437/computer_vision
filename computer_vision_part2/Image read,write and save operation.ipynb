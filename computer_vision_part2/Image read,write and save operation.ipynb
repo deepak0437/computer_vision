{
 "cells": [
  {
   "cell_type": "code",
   "execution_count": 1,
   "id": "438dc501",
   "metadata": {},
   "outputs": [],
   "source": [
    "import cv2\n",
    "import numpy as np"
   ]
  },
  {
   "cell_type": "code",
   "execution_count": 6,
   "id": "c5ac27b6",
   "metadata": {},
   "outputs": [],
   "source": [
    "#this function is used to read the image from location\n",
    "img = cv2.imread(\"images/modi.jpg\", 1)   ##1 is default and it return same images\n",
    "img = cv2.resize(img, (1000, 500))\n",
    "\n",
    "cv2.imshow(\"Image showing\", img)\n",
    "cv2.waitKey(3000) ##image appear upto 3000 means 3sec \n",
    "cv2.destroyAllWindows()\n",
    "\n",
    "\n",
    "#this function is used to read the image from location\n",
    "img = cv2.imread(\"images/modi.jpg\", 0)   ##0 retrun gray scale images \n",
    "img = cv2.resize(img, (1000, 500))\n",
    "img = cv2.flip(img,-1)#it accept 3 parameters 0,-1,1\n",
    "\n",
    "cv2.imshow(\"Image showing\", img)\n",
    "cv2.waitKey(3000) ##image appear upto 3000 means 3sec \n",
    "cv2.destroyAllWindows()\n"
   ]
  },
  {
   "cell_type": "code",
   "execution_count": 2,
   "id": "4ac1d638",
   "metadata": {},
   "outputs": [
    {
     "name": "stdout",
     "output_type": "stream",
     "text": [
      "Enter the path and name of images:images/croc.jpg\n",
      "Your path is: images/croc.jpg\n"
     ]
    }
   ],
   "source": [
    "#Image conversion project colored image into grayscale.\n",
    "path = input(\"Enter the path and name of images:\")\n",
    "print(\"Your path is:\", path)\n",
    "\n",
    "##read images\n",
    "img = cv2.imread(path, 0)\n",
    "img = cv2.resize(img, (700,456))\n",
    "\n",
    "##show images\n",
    "cv2.imshow(\"New images\", img)\n",
    "\n",
    "##save images in specific folder\n",
    "x = cv2.waitKey()\n",
    "if x == ord(\"s\"):\n",
    "    cv2.imwrite(\"images/croc1.png\",img)\n",
    "else:\n",
    "    cv2.destroyAllWindows()"
   ]
  },
  {
   "cell_type": "code",
   "execution_count": null,
   "id": "b119dbae",
   "metadata": {},
   "outputs": [],
   "source": []
  }
 ],
 "metadata": {
  "kernelspec": {
   "display_name": "Python 3 (ipykernel)",
   "language": "python",
   "name": "python3"
  },
  "language_info": {
   "codemirror_mode": {
    "name": "ipython",
    "version": 3
   },
   "file_extension": ".py",
   "mimetype": "text/x-python",
   "name": "python",
   "nbconvert_exporter": "python",
   "pygments_lexer": "ipython3",
   "version": "3.9.7"
  }
 },
 "nbformat": 4,
 "nbformat_minor": 5
}
